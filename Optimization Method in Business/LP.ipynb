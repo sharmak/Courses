{
 "cells": [
  {
   "cell_type": "markdown",
   "metadata": {},
   "source": [
    "A DTC company has to decide how much to make of each product. The set of products are S.   \n",
    "\n",
    "\n",
    "Decision Variables:  \n",
    " * x(j) = amount made of product j   \n",
    " * d(j) = demand of project j  \n",
    " * x(j) <= d(j) \n",
    " \n",
    " \n",
    "Objective function:  \n",
    " \n",
    " * p(j) = Profit of product j  \n",
    " * p(1) * x(1) + p(2) * x(2) + .....    \n",
    " \n",
    " \n",
    "Resource Constraints:  \n",
    " \n",
    " * R(i) = Total amound of resource \n",
    " * A(i,j) = Amount of rosource i used in product j\n",
    " \n",
    "Sets  \n",
    "\n",
    " * S = Set of products\n",
    " * R = Set of resource\n"
   ]
  },
  {
   "cell_type": "code",
   "execution_count": 11,
   "metadata": {},
   "outputs": [
    {
     "name": "stdout",
     "output_type": "stream",
     "text": [
      "Median\n",
      "Mean\n"
     ]
    }
   ],
   "source": [
    "import numpy as np\n",
    "values = [5, 6, 7, 9, 11, 16, 20, 22, 23, 24, 99]\n",
    "def absmin(x): return np.sum([np.abs(x-i)for i in values])\n",
    "def squaremin(x): return np.sum([(x-i)*(x-i) for i in values])\n",
    "\n",
    "def output_value(fn):\n",
    "    mymin = fn(values[0])\n",
    "    output = values[0]\n",
    "    for i in values[1:]:\n",
    "        min_value = fn(i)\n",
    "        if min_value < mymin:\n",
    "            mymin = min_value\n",
    "            output = i\n",
    "    mean = np.mean(values)\n",
    "    median = np.median(values)\n",
    "    from scipy import stats\n",
    "    mode = stats.mode(values)\n",
    "    if output == mean: \n",
    "        return \"Mean\"\n",
    "    if output == median : \n",
    "        return \"Median\"\n",
    "    if output == mode : \n",
    "        return \"Mode\" \n",
    "    \n",
    "print(output_value(absmin))\n",
    "print(output_value(squaremin))\n",
    "    "
   ]
  },
  {
   "cell_type": "code",
   "execution_count": 12,
   "metadata": {
    "collapsed": true
   },
   "outputs": [],
   "source": [
    "import pulp"
   ]
  },
  {
   "cell_type": "markdown",
   "metadata": {},
   "source": [
    " This problem asks you to formulate a 3-variable linear program in three different ways (four ways if you also count the algebraic formulation). Both of the first two ways are fairly natural. The third way is a bit obscure. And the algebraic formulation may seem overly complex. In practice, there are advantages to formulating linear programs in different ways. And there are huge advantages in the algebraic formulation. (One can express huge problems efficiently on a computer using a modeling language, such as Julia/JuMP, which is based on the algebraic formulation.) In addition, formulating an LP in multiple ways provides insight into the LP models.\n",
    "\n",
    "Accessories Co. is producing three kinds of covers for Apple products: one for the iPod, one for the iPad, and one for the iPhone. The company's production facilities are such that if they devote the entire production to iPod covers, they can produce 7000 of them in one day. If they devote the entire production to iPhone covers, they can produce 5000 of them in one day. If they devote the entire production to iPad covers, they can produce 3000 of them in one day. The production schedule is one week (5 working days), and the week's production must be stored before distribution. Storing 1000 iPod covers (packaging included) takes up 40 cubic feet of space. Storing 1000 iPhone covers (packaging included) takes up 55 cubic feet of space. Storing 1000 iPad covers (packaging included) takes up 210 cubic feet of space. The total storage space available is 6000 cubic feet. Due to commercial agreements with Apple, Accessories Co. has to deliver at least 5000 iPod covers and at least 6000 iPad covers per week in order to strengthen the product's diffusion. The marketing department estimates that the weekly demand for iPod covers, iPhone, and iPad covers does not exceed 6000, 15000, and 8000 units. Therefore, the company does not want to produce more than these amounts for iPod, iPhone, and iPad covers. Finally, the net profit per each iPod cover, iPhone cover, and iPad cover is $4, $6, and $10, respectively.\n",
    "\n",
    "The aim is to determine a weekly production schedule that maximizes the total net profit.\n",
    "\n",
    "Write a linear programming formulation for the problem. For this first formulation, the decision variables should represent the proportion of time spent each day on producing each of the two items:\n",
    "\n"
   ]
  },
  {
   "cell_type": "code",
   "execution_count": 13,
   "metadata": {
    "collapsed": true
   },
   "outputs": [],
   "source": [
    "from pulp import *"
   ]
  },
  {
   "cell_type": "code",
   "execution_count": 48,
   "metadata": {},
   "outputs": [
    {
     "name": "stdout",
     "output_type": "stream",
     "text": [
      "('Status:', 'Optimal')\n",
      "('Total profit = ', 148571.42859999998)\n",
      "('Percentage_Time_spent_in_a_day_on_iPad', '=', 0.4)\n",
      "('Percentage_Time_spent_in_a_day_on_iPhone', '=', 0.45714286)\n",
      "('Percentage_Time_spent_in_a_day_on_iPod', '=', 0.14285714)\n"
     ]
    }
   ],
   "source": [
    "x1 = LpVariable(\"Percentage Time spent in a day on iPod\", 0, None)\n",
    "x2 = LpVariable(\"Percentage Time spent in a day on iPhone\", 0, None)\n",
    "x3 = LpVariable(\"Percentage Time spent in a day on iPad\", 0, None)\n",
    "prob = LpProblem(\"Asset Co. Problem\",LpMaximize)\n",
    "prob += 4*x1*5*7000 + 6*x2*5*5000 + 10*x3*3000*5, \"Total Profit\"\n",
    "prob += x1 + x2 + x3 <= 1, \"Totoal Sum of work for a day should be 1\"\n",
    "prob += 5*x1*7000 <= 6000, \"Weekly demand for Ipod\"\n",
    "prob += 5*x2*5000 <= 15000, \"Weekly demand for IPhone\"\n",
    "prob += 5*x3*3000 <= 8000 , \"Weekly demand for IPad\"\n",
    "prob += 5*7000*x1 >= 5000, \"Min production for Ipod\"\n",
    "prob += 5*3000*x3 >= 6000, \"Min production for Ipad\"\n",
    "prob += (5*x1*7000*.045 + 5*x2*5000*0.055 + 5*x3*3000*.210 <= 6000)  \n",
    "prob.solve()\n",
    "print(\"Status:\", LpStatus[prob.status])\n",
    "print(\"Total profit = \", value(prob.objective))\n",
    "for v in prob.variables():\n",
    "    print(v.name, \"=\", v.varValue)"
   ]
  },
  {
   "cell_type": "code",
   "execution_count": null,
   "metadata": {
    "collapsed": true
   },
   "outputs": [],
   "source": []
  },
  {
   "cell_type": "code",
   "execution_count": null,
   "metadata": {
    "collapsed": true
   },
   "outputs": [],
   "source": []
  },
  {
   "cell_type": "code",
   "execution_count": null,
   "metadata": {
    "collapsed": true
   },
   "outputs": [],
   "source": []
  },
  {
   "cell_type": "code",
   "execution_count": null,
   "metadata": {
    "collapsed": true
   },
   "outputs": [],
   "source": []
  },
  {
   "cell_type": "code",
   "execution_count": null,
   "metadata": {
    "collapsed": true
   },
   "outputs": [],
   "source": []
  }
 ],
 "metadata": {
  "kernelspec": {
   "display_name": "Python 2",
   "language": "python",
   "name": "python2"
  },
  "language_info": {
   "codemirror_mode": {
    "name": "ipython",
    "version": 2
   },
   "file_extension": ".py",
   "mimetype": "text/x-python",
   "name": "python",
   "nbconvert_exporter": "python",
   "pygments_lexer": "ipython2",
   "version": "2.7.13"
  }
 },
 "nbformat": 4,
 "nbformat_minor": 2
}
